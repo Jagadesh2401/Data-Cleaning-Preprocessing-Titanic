{
 "cells": [
  {
   "cell_type": "markdown",
   "id": "cb0659d9",
   "metadata": {
    "papermill": {
     "duration": 0.011876,
     "end_time": "2024-08-11T18:58:22.915281",
     "exception": false,
     "start_time": "2024-08-11T18:58:22.903405",
     "status": "completed"
    },
    "tags": []
   },
   "source": [
    "# Import Important Libraries"
   ]
  },
  {
   "cell_type": "code",
   "execution_count": 1,
   "id": "2664f152",
   "metadata": {
    "execution": {
     "iopub.execute_input": "2024-08-11T18:58:22.941535Z",
     "iopub.status.busy": "2024-08-11T18:58:22.941047Z",
     "iopub.status.idle": "2024-08-11T18:58:24.774556Z",
     "shell.execute_reply": "2024-08-11T18:58:24.773410Z"
    },
    "papermill": {
     "duration": 1.848814,
     "end_time": "2024-08-11T18:58:24.777021",
     "exception": false,
     "start_time": "2024-08-11T18:58:22.928207",
     "status": "completed"
    },
    "tags": []
   },
   "outputs": [],
   "source": [
    "import numpy as np\n",
    "import pandas as pd\n",
    "import seaborn as sns \n",
    "import matplotlib.pyplot as plt \n"
   ]
  },
  {
   "cell_type": "markdown",
   "id": "212b90db",
   "metadata": {
    "papermill": {
     "duration": 0.011972,
     "end_time": "2024-08-11T18:58:24.800596",
     "exception": false,
     "start_time": "2024-08-11T18:58:24.788624",
     "status": "completed"
    },
    "tags": []
   },
   "source": [
    "# Load data"
   ]
  },
  {
   "cell_type": "code",
   "execution_count": 2,
   "id": "d58446a3",
   "metadata": {
    "execution": {
     "iopub.execute_input": "2024-08-11T18:58:24.825103Z",
     "iopub.status.busy": "2024-08-11T18:58:24.824683Z",
     "iopub.status.idle": "2024-08-11T18:58:24.845923Z",
     "shell.execute_reply": "2024-08-11T18:58:24.844823Z"
    },
    "papermill": {
     "duration": 0.03647,
     "end_time": "2024-08-11T18:58:24.848456",
     "exception": false,
     "start_time": "2024-08-11T18:58:24.811986",
     "status": "completed"
    },
    "tags": []
   },
   "outputs": [],
   "source": [
    "df = pd.read_csv(\"Titanic-Dataset.csv\")\n"
   ]
  },
  {
   "cell_type": "markdown",
   "id": "9d3dae9a",
   "metadata": {
    "papermill": {
     "duration": 0.011134,
     "end_time": "2024-08-11T18:58:24.871607",
     "exception": false,
     "start_time": "2024-08-11T18:58:24.860473",
     "status": "completed"
    },
    "tags": []
   },
   "source": [
    "# Explore data\n",
    "    "
   ]
  },
  {
   "cell_type": "code",
   "execution_count": 3,
   "id": "861b921e",
   "metadata": {
    "execution": {
     "iopub.execute_input": "2024-08-11T18:58:24.896557Z",
     "iopub.status.busy": "2024-08-11T18:58:24.895581Z",
     "iopub.status.idle": "2024-08-11T18:58:24.927016Z",
     "shell.execute_reply": "2024-08-11T18:58:24.925925Z"
    },
    "papermill": {
     "duration": 0.046492,
     "end_time": "2024-08-11T18:58:24.929462",
     "exception": false,
     "start_time": "2024-08-11T18:58:24.882970",
     "status": "completed"
    },
    "tags": []
   },
   "outputs": [
    {
     "data": {
      "text/html": [
       "<div>\n",
       "<style scoped>\n",
       "    .dataframe tbody tr th:only-of-type {\n",
       "        vertical-align: middle;\n",
       "    }\n",
       "\n",
       "    .dataframe tbody tr th {\n",
       "        vertical-align: top;\n",
       "    }\n",
       "\n",
       "    .dataframe thead th {\n",
       "        text-align: right;\n",
       "    }\n",
       "</style>\n",
       "<table border=\"1\" class=\"dataframe\">\n",
       "  <thead>\n",
       "    <tr style=\"text-align: right;\">\n",
       "      <th></th>\n",
       "      <th>PassengerId</th>\n",
       "      <th>Survived</th>\n",
       "      <th>Pclass</th>\n",
       "      <th>Name</th>\n",
       "      <th>Sex</th>\n",
       "      <th>Age</th>\n",
       "      <th>SibSp</th>\n",
       "      <th>Parch</th>\n",
       "      <th>Ticket</th>\n",
       "      <th>Fare</th>\n",
       "      <th>Cabin</th>\n",
       "      <th>Embarked</th>\n",
       "    </tr>\n",
       "  </thead>\n",
       "  <tbody>\n",
       "    <tr>\n",
       "      <th>0</th>\n",
       "      <td>1</td>\n",
       "      <td>0</td>\n",
       "      <td>3</td>\n",
       "      <td>Braund, Mr. Owen Harris</td>\n",
       "      <td>male</td>\n",
       "      <td>22.0</td>\n",
       "      <td>1</td>\n",
       "      <td>0</td>\n",
       "      <td>A/5 21171</td>\n",
       "      <td>7.2500</td>\n",
       "      <td>NaN</td>\n",
       "      <td>S</td>\n",
       "    </tr>\n",
       "    <tr>\n",
       "      <th>1</th>\n",
       "      <td>2</td>\n",
       "      <td>1</td>\n",
       "      <td>1</td>\n",
       "      <td>Cumings, Mrs. John Bradley (Florence Briggs Th...</td>\n",
       "      <td>female</td>\n",
       "      <td>38.0</td>\n",
       "      <td>1</td>\n",
       "      <td>0</td>\n",
       "      <td>PC 17599</td>\n",
       "      <td>71.2833</td>\n",
       "      <td>C85</td>\n",
       "      <td>C</td>\n",
       "    </tr>\n",
       "    <tr>\n",
       "      <th>2</th>\n",
       "      <td>3</td>\n",
       "      <td>1</td>\n",
       "      <td>3</td>\n",
       "      <td>Heikkinen, Miss. Laina</td>\n",
       "      <td>female</td>\n",
       "      <td>26.0</td>\n",
       "      <td>0</td>\n",
       "      <td>0</td>\n",
       "      <td>STON/O2. 3101282</td>\n",
       "      <td>7.9250</td>\n",
       "      <td>NaN</td>\n",
       "      <td>S</td>\n",
       "    </tr>\n",
       "    <tr>\n",
       "      <th>3</th>\n",
       "      <td>4</td>\n",
       "      <td>1</td>\n",
       "      <td>1</td>\n",
       "      <td>Futrelle, Mrs. Jacques Heath (Lily May Peel)</td>\n",
       "      <td>female</td>\n",
       "      <td>35.0</td>\n",
       "      <td>1</td>\n",
       "      <td>0</td>\n",
       "      <td>113803</td>\n",
       "      <td>53.1000</td>\n",
       "      <td>C123</td>\n",
       "      <td>S</td>\n",
       "    </tr>\n",
       "    <tr>\n",
       "      <th>4</th>\n",
       "      <td>5</td>\n",
       "      <td>0</td>\n",
       "      <td>3</td>\n",
       "      <td>Allen, Mr. William Henry</td>\n",
       "      <td>male</td>\n",
       "      <td>35.0</td>\n",
       "      <td>0</td>\n",
       "      <td>0</td>\n",
       "      <td>373450</td>\n",
       "      <td>8.0500</td>\n",
       "      <td>NaN</td>\n",
       "      <td>S</td>\n",
       "    </tr>\n",
       "    <tr>\n",
       "      <th>5</th>\n",
       "      <td>6</td>\n",
       "      <td>0</td>\n",
       "      <td>3</td>\n",
       "      <td>Moran, Mr. James</td>\n",
       "      <td>male</td>\n",
       "      <td>NaN</td>\n",
       "      <td>0</td>\n",
       "      <td>0</td>\n",
       "      <td>330877</td>\n",
       "      <td>8.4583</td>\n",
       "      <td>NaN</td>\n",
       "      <td>Q</td>\n",
       "    </tr>\n",
       "    <tr>\n",
       "      <th>6</th>\n",
       "      <td>7</td>\n",
       "      <td>0</td>\n",
       "      <td>1</td>\n",
       "      <td>McCarthy, Mr. Timothy J</td>\n",
       "      <td>male</td>\n",
       "      <td>54.0</td>\n",
       "      <td>0</td>\n",
       "      <td>0</td>\n",
       "      <td>17463</td>\n",
       "      <td>51.8625</td>\n",
       "      <td>E46</td>\n",
       "      <td>S</td>\n",
       "    </tr>\n",
       "    <tr>\n",
       "      <th>7</th>\n",
       "      <td>8</td>\n",
       "      <td>0</td>\n",
       "      <td>3</td>\n",
       "      <td>Palsson, Master. Gosta Leonard</td>\n",
       "      <td>male</td>\n",
       "      <td>2.0</td>\n",
       "      <td>3</td>\n",
       "      <td>1</td>\n",
       "      <td>349909</td>\n",
       "      <td>21.0750</td>\n",
       "      <td>NaN</td>\n",
       "      <td>S</td>\n",
       "    </tr>\n",
       "    <tr>\n",
       "      <th>8</th>\n",
       "      <td>9</td>\n",
       "      <td>1</td>\n",
       "      <td>3</td>\n",
       "      <td>Johnson, Mrs. Oscar W (Elisabeth Vilhelmina Berg)</td>\n",
       "      <td>female</td>\n",
       "      <td>27.0</td>\n",
       "      <td>0</td>\n",
       "      <td>2</td>\n",
       "      <td>347742</td>\n",
       "      <td>11.1333</td>\n",
       "      <td>NaN</td>\n",
       "      <td>S</td>\n",
       "    </tr>\n",
       "    <tr>\n",
       "      <th>9</th>\n",
       "      <td>10</td>\n",
       "      <td>1</td>\n",
       "      <td>2</td>\n",
       "      <td>Nasser, Mrs. Nicholas (Adele Achem)</td>\n",
       "      <td>female</td>\n",
       "      <td>14.0</td>\n",
       "      <td>1</td>\n",
       "      <td>0</td>\n",
       "      <td>237736</td>\n",
       "      <td>30.0708</td>\n",
       "      <td>NaN</td>\n",
       "      <td>C</td>\n",
       "    </tr>\n",
       "    <tr>\n",
       "      <th>10</th>\n",
       "      <td>11</td>\n",
       "      <td>1</td>\n",
       "      <td>3</td>\n",
       "      <td>Sandstrom, Miss. Marguerite Rut</td>\n",
       "      <td>female</td>\n",
       "      <td>4.0</td>\n",
       "      <td>1</td>\n",
       "      <td>1</td>\n",
       "      <td>PP 9549</td>\n",
       "      <td>16.7000</td>\n",
       "      <td>G6</td>\n",
       "      <td>S</td>\n",
       "    </tr>\n",
       "    <tr>\n",
       "      <th>11</th>\n",
       "      <td>12</td>\n",
       "      <td>1</td>\n",
       "      <td>1</td>\n",
       "      <td>Bonnell, Miss. Elizabeth</td>\n",
       "      <td>female</td>\n",
       "      <td>58.0</td>\n",
       "      <td>0</td>\n",
       "      <td>0</td>\n",
       "      <td>113783</td>\n",
       "      <td>26.5500</td>\n",
       "      <td>C103</td>\n",
       "      <td>S</td>\n",
       "    </tr>\n",
       "    <tr>\n",
       "      <th>12</th>\n",
       "      <td>13</td>\n",
       "      <td>0</td>\n",
       "      <td>3</td>\n",
       "      <td>Saundercock, Mr. William Henry</td>\n",
       "      <td>male</td>\n",
       "      <td>20.0</td>\n",
       "      <td>0</td>\n",
       "      <td>0</td>\n",
       "      <td>A/5. 2151</td>\n",
       "      <td>8.0500</td>\n",
       "      <td>NaN</td>\n",
       "      <td>S</td>\n",
       "    </tr>\n",
       "    <tr>\n",
       "      <th>13</th>\n",
       "      <td>14</td>\n",
       "      <td>0</td>\n",
       "      <td>3</td>\n",
       "      <td>Andersson, Mr. Anders Johan</td>\n",
       "      <td>male</td>\n",
       "      <td>39.0</td>\n",
       "      <td>1</td>\n",
       "      <td>5</td>\n",
       "      <td>347082</td>\n",
       "      <td>31.2750</td>\n",
       "      <td>NaN</td>\n",
       "      <td>S</td>\n",
       "    </tr>\n",
       "    <tr>\n",
       "      <th>14</th>\n",
       "      <td>15</td>\n",
       "      <td>0</td>\n",
       "      <td>3</td>\n",
       "      <td>Vestrom, Miss. Hulda Amanda Adolfina</td>\n",
       "      <td>female</td>\n",
       "      <td>14.0</td>\n",
       "      <td>0</td>\n",
       "      <td>0</td>\n",
       "      <td>350406</td>\n",
       "      <td>7.8542</td>\n",
       "      <td>NaN</td>\n",
       "      <td>S</td>\n",
       "    </tr>\n",
       "    <tr>\n",
       "      <th>15</th>\n",
       "      <td>16</td>\n",
       "      <td>1</td>\n",
       "      <td>2</td>\n",
       "      <td>Hewlett, Mrs. (Mary D Kingcome)</td>\n",
       "      <td>female</td>\n",
       "      <td>55.0</td>\n",
       "      <td>0</td>\n",
       "      <td>0</td>\n",
       "      <td>248706</td>\n",
       "      <td>16.0000</td>\n",
       "      <td>NaN</td>\n",
       "      <td>S</td>\n",
       "    </tr>\n",
       "    <tr>\n",
       "      <th>16</th>\n",
       "      <td>17</td>\n",
       "      <td>0</td>\n",
       "      <td>3</td>\n",
       "      <td>Rice, Master. Eugene</td>\n",
       "      <td>male</td>\n",
       "      <td>2.0</td>\n",
       "      <td>4</td>\n",
       "      <td>1</td>\n",
       "      <td>382652</td>\n",
       "      <td>29.1250</td>\n",
       "      <td>NaN</td>\n",
       "      <td>Q</td>\n",
       "    </tr>\n",
       "    <tr>\n",
       "      <th>17</th>\n",
       "      <td>18</td>\n",
       "      <td>1</td>\n",
       "      <td>2</td>\n",
       "      <td>Williams, Mr. Charles Eugene</td>\n",
       "      <td>male</td>\n",
       "      <td>NaN</td>\n",
       "      <td>0</td>\n",
       "      <td>0</td>\n",
       "      <td>244373</td>\n",
       "      <td>13.0000</td>\n",
       "      <td>NaN</td>\n",
       "      <td>S</td>\n",
       "    </tr>\n",
       "    <tr>\n",
       "      <th>18</th>\n",
       "      <td>19</td>\n",
       "      <td>0</td>\n",
       "      <td>3</td>\n",
       "      <td>Vander Planke, Mrs. Julius (Emelia Maria Vande...</td>\n",
       "      <td>female</td>\n",
       "      <td>31.0</td>\n",
       "      <td>1</td>\n",
       "      <td>0</td>\n",
       "      <td>345763</td>\n",
       "      <td>18.0000</td>\n",
       "      <td>NaN</td>\n",
       "      <td>S</td>\n",
       "    </tr>\n",
       "    <tr>\n",
       "      <th>19</th>\n",
       "      <td>20</td>\n",
       "      <td>1</td>\n",
       "      <td>3</td>\n",
       "      <td>Masselmani, Mrs. Fatima</td>\n",
       "      <td>female</td>\n",
       "      <td>NaN</td>\n",
       "      <td>0</td>\n",
       "      <td>0</td>\n",
       "      <td>2649</td>\n",
       "      <td>7.2250</td>\n",
       "      <td>NaN</td>\n",
       "      <td>C</td>\n",
       "    </tr>\n",
       "  </tbody>\n",
       "</table>\n",
       "</div>"
      ],
      "text/plain": [
       "    PassengerId  Survived  Pclass  \\\n",
       "0             1         0       3   \n",
       "1             2         1       1   \n",
       "2             3         1       3   \n",
       "3             4         1       1   \n",
       "4             5         0       3   \n",
       "5             6         0       3   \n",
       "6             7         0       1   \n",
       "7             8         0       3   \n",
       "8             9         1       3   \n",
       "9            10         1       2   \n",
       "10           11         1       3   \n",
       "11           12         1       1   \n",
       "12           13         0       3   \n",
       "13           14         0       3   \n",
       "14           15         0       3   \n",
       "15           16         1       2   \n",
       "16           17         0       3   \n",
       "17           18         1       2   \n",
       "18           19         0       3   \n",
       "19           20         1       3   \n",
       "\n",
       "                                                 Name     Sex   Age  SibSp  \\\n",
       "0                             Braund, Mr. Owen Harris    male  22.0      1   \n",
       "1   Cumings, Mrs. John Bradley (Florence Briggs Th...  female  38.0      1   \n",
       "2                              Heikkinen, Miss. Laina  female  26.0      0   \n",
       "3        Futrelle, Mrs. Jacques Heath (Lily May Peel)  female  35.0      1   \n",
       "4                            Allen, Mr. William Henry    male  35.0      0   \n",
       "5                                    Moran, Mr. James    male   NaN      0   \n",
       "6                             McCarthy, Mr. Timothy J    male  54.0      0   \n",
       "7                      Palsson, Master. Gosta Leonard    male   2.0      3   \n",
       "8   Johnson, Mrs. Oscar W (Elisabeth Vilhelmina Berg)  female  27.0      0   \n",
       "9                 Nasser, Mrs. Nicholas (Adele Achem)  female  14.0      1   \n",
       "10                    Sandstrom, Miss. Marguerite Rut  female   4.0      1   \n",
       "11                           Bonnell, Miss. Elizabeth  female  58.0      0   \n",
       "12                     Saundercock, Mr. William Henry    male  20.0      0   \n",
       "13                        Andersson, Mr. Anders Johan    male  39.0      1   \n",
       "14               Vestrom, Miss. Hulda Amanda Adolfina  female  14.0      0   \n",
       "15                   Hewlett, Mrs. (Mary D Kingcome)   female  55.0      0   \n",
       "16                               Rice, Master. Eugene    male   2.0      4   \n",
       "17                       Williams, Mr. Charles Eugene    male   NaN      0   \n",
       "18  Vander Planke, Mrs. Julius (Emelia Maria Vande...  female  31.0      1   \n",
       "19                            Masselmani, Mrs. Fatima  female   NaN      0   \n",
       "\n",
       "    Parch            Ticket     Fare Cabin Embarked  \n",
       "0       0         A/5 21171   7.2500   NaN        S  \n",
       "1       0          PC 17599  71.2833   C85        C  \n",
       "2       0  STON/O2. 3101282   7.9250   NaN        S  \n",
       "3       0            113803  53.1000  C123        S  \n",
       "4       0            373450   8.0500   NaN        S  \n",
       "5       0            330877   8.4583   NaN        Q  \n",
       "6       0             17463  51.8625   E46        S  \n",
       "7       1            349909  21.0750   NaN        S  \n",
       "8       2            347742  11.1333   NaN        S  \n",
       "9       0            237736  30.0708   NaN        C  \n",
       "10      1           PP 9549  16.7000    G6        S  \n",
       "11      0            113783  26.5500  C103        S  \n",
       "12      0         A/5. 2151   8.0500   NaN        S  \n",
       "13      5            347082  31.2750   NaN        S  \n",
       "14      0            350406   7.8542   NaN        S  \n",
       "15      0            248706  16.0000   NaN        S  \n",
       "16      1            382652  29.1250   NaN        Q  \n",
       "17      0            244373  13.0000   NaN        S  \n",
       "18      0            345763  18.0000   NaN        S  \n",
       "19      0              2649   7.2250   NaN        C  "
      ]
     },
     "execution_count": 3,
     "metadata": {},
     "output_type": "execute_result"
    }
   ],
   "source": [
    "df.head(20)\n"
   ]
  },
  {
   "cell_type": "code",
   "execution_count": 4,
   "id": "96c33cf6",
   "metadata": {
    "execution": {
     "iopub.execute_input": "2024-08-11T18:58:24.955053Z",
     "iopub.status.busy": "2024-08-11T18:58:24.954687Z",
     "iopub.status.idle": "2024-08-11T18:58:24.960787Z",
     "shell.execute_reply": "2024-08-11T18:58:24.959776Z"
    },
    "papermill": {
     "duration": 0.021141,
     "end_time": "2024-08-11T18:58:24.962768",
     "exception": false,
     "start_time": "2024-08-11T18:58:24.941627",
     "status": "completed"
    },
    "tags": []
   },
   "outputs": [
    {
     "data": {
      "text/plain": [
       "(891, 12)"
      ]
     },
     "execution_count": 4,
     "metadata": {},
     "output_type": "execute_result"
    }
   ],
   "source": [
    "df.shape\n"
   ]
  },
  {
   "cell_type": "code",
   "execution_count": 5,
   "id": "ee3e0e52",
   "metadata": {
    "execution": {
     "iopub.execute_input": "2024-08-11T18:58:24.989672Z",
     "iopub.status.busy": "2024-08-11T18:58:24.988507Z",
     "iopub.status.idle": "2024-08-11T18:58:25.013630Z",
     "shell.execute_reply": "2024-08-11T18:58:25.012388Z"
    },
    "papermill": {
     "duration": 0.040695,
     "end_time": "2024-08-11T18:58:25.015931",
     "exception": false,
     "start_time": "2024-08-11T18:58:24.975236",
     "status": "completed"
    },
    "tags": []
   },
   "outputs": [
    {
     "name": "stdout",
     "output_type": "stream",
     "text": [
      "<class 'pandas.core.frame.DataFrame'>\n",
      "RangeIndex: 891 entries, 0 to 890\n",
      "Data columns (total 12 columns):\n",
      " #   Column       Non-Null Count  Dtype  \n",
      "---  ------       --------------  -----  \n",
      " 0   PassengerId  891 non-null    int64  \n",
      " 1   Survived     891 non-null    int64  \n",
      " 2   Pclass       891 non-null    int64  \n",
      " 3   Name         891 non-null    object \n",
      " 4   Sex          891 non-null    object \n",
      " 5   Age          714 non-null    float64\n",
      " 6   SibSp        891 non-null    int64  \n",
      " 7   Parch        891 non-null    int64  \n",
      " 8   Ticket       891 non-null    object \n",
      " 9   Fare         891 non-null    float64\n",
      " 10  Cabin        204 non-null    object \n",
      " 11  Embarked     889 non-null    object \n",
      "dtypes: float64(2), int64(5), object(5)\n",
      "memory usage: 83.7+ KB\n"
     ]
    }
   ],
   "source": [
    "df.info()\n"
   ]
  },
  {
   "cell_type": "code",
   "execution_count": 6,
   "id": "9c20085a",
   "metadata": {
    "execution": {
     "iopub.execute_input": "2024-08-11T18:58:25.041997Z",
     "iopub.status.busy": "2024-08-11T18:58:25.041603Z",
     "iopub.status.idle": "2024-08-11T18:58:25.071111Z",
     "shell.execute_reply": "2024-08-11T18:58:25.070050Z"
    },
    "papermill": {
     "duration": 0.045255,
     "end_time": "2024-08-11T18:58:25.073513",
     "exception": false,
     "start_time": "2024-08-11T18:58:25.028258",
     "status": "completed"
    },
    "tags": []
   },
   "outputs": [
    {
     "data": {
      "text/html": [
       "<div>\n",
       "<style scoped>\n",
       "    .dataframe tbody tr th:only-of-type {\n",
       "        vertical-align: middle;\n",
       "    }\n",
       "\n",
       "    .dataframe tbody tr th {\n",
       "        vertical-align: top;\n",
       "    }\n",
       "\n",
       "    .dataframe thead th {\n",
       "        text-align: right;\n",
       "    }\n",
       "</style>\n",
       "<table border=\"1\" class=\"dataframe\">\n",
       "  <thead>\n",
       "    <tr style=\"text-align: right;\">\n",
       "      <th></th>\n",
       "      <th>PassengerId</th>\n",
       "      <th>Survived</th>\n",
       "      <th>Pclass</th>\n",
       "      <th>Age</th>\n",
       "      <th>SibSp</th>\n",
       "      <th>Parch</th>\n",
       "      <th>Fare</th>\n",
       "    </tr>\n",
       "  </thead>\n",
       "  <tbody>\n",
       "    <tr>\n",
       "      <th>count</th>\n",
       "      <td>891.000000</td>\n",
       "      <td>891.000000</td>\n",
       "      <td>891.000000</td>\n",
       "      <td>714.000000</td>\n",
       "      <td>891.000000</td>\n",
       "      <td>891.000000</td>\n",
       "      <td>891.000000</td>\n",
       "    </tr>\n",
       "    <tr>\n",
       "      <th>mean</th>\n",
       "      <td>446.000000</td>\n",
       "      <td>0.383838</td>\n",
       "      <td>2.308642</td>\n",
       "      <td>29.699118</td>\n",
       "      <td>0.523008</td>\n",
       "      <td>0.381594</td>\n",
       "      <td>32.204208</td>\n",
       "    </tr>\n",
       "    <tr>\n",
       "      <th>std</th>\n",
       "      <td>257.353842</td>\n",
       "      <td>0.486592</td>\n",
       "      <td>0.836071</td>\n",
       "      <td>14.526497</td>\n",
       "      <td>1.102743</td>\n",
       "      <td>0.806057</td>\n",
       "      <td>49.693429</td>\n",
       "    </tr>\n",
       "    <tr>\n",
       "      <th>min</th>\n",
       "      <td>1.000000</td>\n",
       "      <td>0.000000</td>\n",
       "      <td>1.000000</td>\n",
       "      <td>0.420000</td>\n",
       "      <td>0.000000</td>\n",
       "      <td>0.000000</td>\n",
       "      <td>0.000000</td>\n",
       "    </tr>\n",
       "    <tr>\n",
       "      <th>25%</th>\n",
       "      <td>223.500000</td>\n",
       "      <td>0.000000</td>\n",
       "      <td>2.000000</td>\n",
       "      <td>20.125000</td>\n",
       "      <td>0.000000</td>\n",
       "      <td>0.000000</td>\n",
       "      <td>7.910400</td>\n",
       "    </tr>\n",
       "    <tr>\n",
       "      <th>50%</th>\n",
       "      <td>446.000000</td>\n",
       "      <td>0.000000</td>\n",
       "      <td>3.000000</td>\n",
       "      <td>28.000000</td>\n",
       "      <td>0.000000</td>\n",
       "      <td>0.000000</td>\n",
       "      <td>14.454200</td>\n",
       "    </tr>\n",
       "    <tr>\n",
       "      <th>75%</th>\n",
       "      <td>668.500000</td>\n",
       "      <td>1.000000</td>\n",
       "      <td>3.000000</td>\n",
       "      <td>38.000000</td>\n",
       "      <td>1.000000</td>\n",
       "      <td>0.000000</td>\n",
       "      <td>31.000000</td>\n",
       "    </tr>\n",
       "    <tr>\n",
       "      <th>max</th>\n",
       "      <td>891.000000</td>\n",
       "      <td>1.000000</td>\n",
       "      <td>3.000000</td>\n",
       "      <td>80.000000</td>\n",
       "      <td>8.000000</td>\n",
       "      <td>6.000000</td>\n",
       "      <td>512.329200</td>\n",
       "    </tr>\n",
       "  </tbody>\n",
       "</table>\n",
       "</div>"
      ],
      "text/plain": [
       "       PassengerId    Survived      Pclass         Age       SibSp  \\\n",
       "count   891.000000  891.000000  891.000000  714.000000  891.000000   \n",
       "mean    446.000000    0.383838    2.308642   29.699118    0.523008   \n",
       "std     257.353842    0.486592    0.836071   14.526497    1.102743   \n",
       "min       1.000000    0.000000    1.000000    0.420000    0.000000   \n",
       "25%     223.500000    0.000000    2.000000   20.125000    0.000000   \n",
       "50%     446.000000    0.000000    3.000000   28.000000    0.000000   \n",
       "75%     668.500000    1.000000    3.000000   38.000000    1.000000   \n",
       "max     891.000000    1.000000    3.000000   80.000000    8.000000   \n",
       "\n",
       "            Parch        Fare  \n",
       "count  891.000000  891.000000  \n",
       "mean     0.381594   32.204208  \n",
       "std      0.806057   49.693429  \n",
       "min      0.000000    0.000000  \n",
       "25%      0.000000    7.910400  \n",
       "50%      0.000000   14.454200  \n",
       "75%      0.000000   31.000000  \n",
       "max      6.000000  512.329200  "
      ]
     },
     "execution_count": 6,
     "metadata": {},
     "output_type": "execute_result"
    }
   ],
   "source": [
    "df.describe()"
   ]
  },
  {
   "cell_type": "code",
   "execution_count": 7,
   "id": "12613ce8",
   "metadata": {
    "execution": {
     "iopub.execute_input": "2024-08-11T18:58:25.107044Z",
     "iopub.status.busy": "2024-08-11T18:58:25.105157Z",
     "iopub.status.idle": "2024-08-11T18:58:25.115295Z",
     "shell.execute_reply": "2024-08-11T18:58:25.114053Z"
    },
    "papermill": {
     "duration": 0.031228,
     "end_time": "2024-08-11T18:58:25.117561",
     "exception": false,
     "start_time": "2024-08-11T18:58:25.086333",
     "status": "completed"
    },
    "tags": []
   },
   "outputs": [
    {
     "data": {
      "text/plain": [
       "0"
      ]
     },
     "execution_count": 7,
     "metadata": {},
     "output_type": "execute_result"
    }
   ],
   "source": [
    "df.duplicated().sum()\n"
   ]
  },
  {
   "cell_type": "code",
   "execution_count": 8,
   "id": "bb88ce17",
   "metadata": {
    "execution": {
     "iopub.execute_input": "2024-08-11T18:58:25.145241Z",
     "iopub.status.busy": "2024-08-11T18:58:25.144272Z",
     "iopub.status.idle": "2024-08-11T18:58:25.153586Z",
     "shell.execute_reply": "2024-08-11T18:58:25.152481Z"
    },
    "papermill": {
     "duration": 0.025559,
     "end_time": "2024-08-11T18:58:25.155888",
     "exception": false,
     "start_time": "2024-08-11T18:58:25.130329",
     "status": "completed"
    },
    "tags": []
   },
   "outputs": [
    {
     "data": {
      "text/plain": [
       "Age         177\n",
       "Cabin       687\n",
       "Embarked      2\n",
       "dtype: int64"
      ]
     },
     "execution_count": 8,
     "metadata": {},
     "output_type": "execute_result"
    }
   ],
   "source": [
    "null_d=df.isnull().sum()\n",
    "null_d[null_d>0]"
   ]
  },
  {
   "cell_type": "code",
   "execution_count": 9,
   "id": "d41bc210",
   "metadata": {
    "execution": {
     "iopub.execute_input": "2024-08-11T18:58:25.183457Z",
     "iopub.status.busy": "2024-08-11T18:58:25.183020Z",
     "iopub.status.idle": "2024-08-11T18:58:25.750564Z",
     "shell.execute_reply": "2024-08-11T18:58:25.749436Z"
    },
    "papermill": {
     "duration": 0.584485,
     "end_time": "2024-08-11T18:58:25.753185",
     "exception": false,
     "start_time": "2024-08-11T18:58:25.168700",
     "status": "completed"
    },
    "tags": []
   },
   "outputs": [
    {
     "data": {
      "text/plain": [
       "<Axes: >"
      ]
     },
     "execution_count": 9,
     "metadata": {},
     "output_type": "execute_result"
    },
    {
     "data": {
      "image/png": "[encoded data removed]",
      "text/plain": [
       "<Figure size 640x480 with 2 Axes>"
      ]
     },
     "metadata": {},
     "output_type": "display_data"
    }
   ],
   "source": [
    "sns.heatmap(df.isnull())\n"
   ]
  },
  {
   "cell_type": "code",
   "execution_count": 10,
   "id": "24a6be52",
   "metadata": {
    "execution": {
     "iopub.execute_input": "2024-08-11T18:58:25.782999Z",
     "iopub.status.busy": "2024-08-11T18:58:25.782040Z",
     "iopub.status.idle": "2024-08-11T18:58:26.016265Z",
     "shell.execute_reply": "2024-08-11T18:58:26.015121Z"
    },
    "papermill": {
     "duration": 0.251892,
     "end_time": "2024-08-11T18:58:26.018625",
     "exception": false,
     "start_time": "2024-08-11T18:58:25.766733",
     "status": "completed"
    },
    "tags": []
   },
   "outputs": [
    {
     "data": {
      "text/plain": [
       "<Axes: >"
      ]
     },
     "execution_count": 10,
     "metadata": {},
     "output_type": "execute_result"
    },
    {
     "data": {
      "image/png": "[encoded data removed]",
      "text/plain": [
       "<Figure size 640x480 with 1 Axes>"
      ]
     },
     "metadata": {},
     "output_type": "display_data"
    }
   ],
   "source": [
    "null_d[null_d>0].plot(kind='bar')\n"
   ]
  },
  {
   "cell_type": "markdown",
   "id": "228f12bd",
   "metadata": {
    "papermill": {
     "duration": 0.013495,
     "end_time": "2024-08-11T18:58:26.045919",
     "exception": false,
     "start_time": "2024-08-11T18:58:26.032424",
     "status": "completed"
    },
    "tags": []
   },
   "source": [
    "# Data Cleaning\n"
   ]
  },
  {
   "cell_type": "code",
   "execution_count": 11,
   "id": "8db1f6bc",
   "metadata": {
    "execution": {
     "iopub.execute_input": "2024-08-11T18:58:26.074982Z",
     "iopub.status.busy": "2024-08-11T18:58:26.074594Z",
     "iopub.status.idle": "2024-08-11T18:58:26.083550Z",
     "shell.execute_reply": "2024-08-11T18:58:26.082420Z"
    },
    "papermill": {
     "duration": 0.025933,
     "end_time": "2024-08-11T18:58:26.085614",
     "exception": false,
     "start_time": "2024-08-11T18:58:26.059681",
     "status": "completed"
    },
    "tags": []
   },
   "outputs": [],
   "source": [
    "df.drop(['PassengerId','Name','Ticket','Cabin','Embarked','Fare'],axis =1 , inplace=True )"
   ]
  },
  {
   "cell_type": "code",
   "execution_count": 12,
   "id": "031f32b6",
   "metadata": {
    "execution": {
     "iopub.execute_input": "2024-08-11T18:58:26.115189Z",
     "iopub.status.busy": "2024-08-11T18:58:26.114239Z",
     "iopub.status.idle": "2024-08-11T18:58:26.120290Z",
     "shell.execute_reply": "2024-08-11T18:58:26.119284Z"
    },
    "papermill": {
     "duration": 0.023182,
     "end_time": "2024-08-11T18:58:26.122545",
     "exception": false,
     "start_time": "2024-08-11T18:58:26.099363",
     "status": "completed"
    },
    "tags": []
   },
   "outputs": [],
   "source": [
    "df.Age=df.Age.fillna(df.Age.mean())\n"
   ]
  },
  {
   "cell_type": "code",
   "execution_count": 13,
   "id": "0e75f18a",
   "metadata": {
    "execution": {
     "iopub.execute_input": "2024-08-11T18:58:26.152213Z",
     "iopub.status.busy": "2024-08-11T18:58:26.151835Z",
     "iopub.status.idle": "2024-08-11T18:58:26.160666Z",
     "shell.execute_reply": "2024-08-11T18:58:26.159341Z"
    },
    "papermill": {
     "duration": 0.026337,
     "end_time": "2024-08-11T18:58:26.162891",
     "exception": false,
     "start_time": "2024-08-11T18:58:26.136554",
     "status": "completed"
    },
    "tags": []
   },
   "outputs": [
    {
     "data": {
      "text/plain": [
       "Survived    0\n",
       "Pclass      0\n",
       "Sex         0\n",
       "Age         0\n",
       "SibSp       0\n",
       "Parch       0\n",
       "dtype: int64"
      ]
     },
     "execution_count": 13,
     "metadata": {},
     "output_type": "execute_result"
    }
   ],
   "source": [
    "df.isna().sum()"
   ]
  },
  {
   "cell_type": "code",
   "execution_count": 14,
   "id": "abed8860",
   "metadata": {
    "execution": {
     "iopub.execute_input": "2024-08-11T18:58:26.192928Z",
     "iopub.status.busy": "2024-08-11T18:58:26.192244Z",
     "iopub.status.idle": "2024-08-11T18:58:26.653438Z",
     "shell.execute_reply": "2024-08-11T18:58:26.652424Z"
    },
    "papermill": {
     "duration": 0.478946,
     "end_time": "2024-08-11T18:58:26.655848",
     "exception": false,
     "start_time": "2024-08-11T18:58:26.176902",
     "status": "completed"
    },
    "tags": []
   },
   "outputs": [
    {
     "data": {
      "text/plain": [
       "<Axes: >"
      ]
     },
     "execution_count": 14,
     "metadata": {},
     "output_type": "execute_result"
    },
    {
     "data": {
      "image/png": "[encoded data removed]",
      "text/plain": [
       "<Figure size 640x480 with 2 Axes>"
      ]
     },
     "metadata": {},
     "output_type": "display_data"
    }
   ],
   "source": [
    "sns.heatmap(df.isnull())\n"
   ]
  },
  {
   "cell_type": "markdown",
   "id": "bd3e8c16",
   "metadata": {
    "papermill": {
     "duration": 0.014311,
     "end_time": "2024-08-11T18:58:26.684843",
     "exception": false,
     "start_time": "2024-08-11T18:58:26.670532",
     "status": "completed"
    },
    "tags": []
   },
   "source": [
    "# Data Aanlysis "
   ]
  },
  {
   "cell_type": "code",
   "execution_count": 15,
   "id": "05006614",
   "metadata": {
    "execution": {
     "iopub.execute_input": "2024-08-11T18:58:26.716129Z",
     "iopub.status.busy": "2024-08-11T18:58:26.715251Z",
     "iopub.status.idle": "2024-08-11T18:58:27.046609Z",
     "shell.execute_reply": "2024-08-11T18:58:27.045258Z"
    },
    "papermill": {
     "duration": 0.349714,
     "end_time": "2024-08-11T18:58:27.049202",
     "exception": false,
     "start_time": "2024-08-11T18:58:26.699488",
     "status": "completed"
    },
    "tags": []
   },
   "outputs": [
    {
     "data": {
      "text/plain": [
       "<Axes: >"
      ]
     },
     "execution_count": 15,
     "metadata": {},
     "output_type": "execute_result"
    },
    {
     "data": {
      "image/png": "[encoded data removed]",
      "text/plain": [
       "<Figure size 640x480 with 2 Axes>"
      ]
     },
     "metadata": {},
     "output_type": "display_data"
    }
   ],
   "source": [
    "num_cols = df.select_dtypes(include='number').columns\n",
    "\n",
    "corr_matrix = df[num_cols].corr()\n",
    "corr_matrix\n",
    "\n",
    "sns.heatmap(corr_matrix,annot=True,fmt='.1f',linewidths=4)"
   ]
  },
  {
   "cell_type": "code",
   "execution_count": 16,
   "id": "e14900a4",
   "metadata": {
    "execution": {
     "iopub.execute_input": "2024-08-11T18:58:27.083579Z",
     "iopub.status.busy": "2024-08-11T18:58:27.082479Z",
     "iopub.status.idle": "2024-08-11T18:58:27.092796Z",
     "shell.execute_reply": "2024-08-11T18:58:27.091517Z"
    },
    "papermill": {
     "duration": 0.030332,
     "end_time": "2024-08-11T18:58:27.095141",
     "exception": false,
     "start_time": "2024-08-11T18:58:27.064809",
     "status": "completed"
    },
    "tags": []
   },
   "outputs": [
    {
     "data": {
      "text/plain": [
       "Survived\n",
       "0    549\n",
       "1    342\n",
       "Name: count, dtype: int64"
      ]
     },
     "execution_count": 16,
     "metadata": {},
     "output_type": "execute_result"
    }
   ],
   "source": [
    "df.Survived.value_counts()\n"
   ]
  },
  {
   "cell_type": "code",
   "execution_count": 17,
   "id": "ac66c931",
   "metadata": {
    "execution": {
     "iopub.execute_input": "2024-08-11T18:58:27.184926Z",
     "iopub.status.busy": "2024-08-11T18:58:27.183989Z",
     "iopub.status.idle": "2024-08-11T18:58:27.192644Z",
     "shell.execute_reply": "2024-08-11T18:58:27.191585Z"
    },
    "papermill": {
     "duration": 0.027623,
     "end_time": "2024-08-11T18:58:27.194887",
     "exception": false,
     "start_time": "2024-08-11T18:58:27.167264",
     "status": "completed"
    },
    "tags": []
   },
   "outputs": [
    {
     "data": {
      "text/plain": [
       "Sex\n",
       "male      577\n",
       "female    314\n",
       "Name: count, dtype: int64"
      ]
     },
     "execution_count": 17,
     "metadata": {},
     "output_type": "execute_result"
    }
   ],
   "source": [
    "df.Sex.value_counts()\n"
   ]
  },
  {
   "cell_type": "code",
   "execution_count": 18,
   "id": "a3fcfc06",
   "metadata": {
    "execution": {
     "iopub.execute_input": "2024-08-11T18:58:27.228753Z",
     "iopub.status.busy": "2024-08-11T18:58:27.227464Z",
     "iopub.status.idle": "2024-08-11T18:58:27.454063Z",
     "shell.execute_reply": "2024-08-11T18:58:27.452988Z"
    },
    "papermill": {
     "duration": 0.245848,
     "end_time": "2024-08-11T18:58:27.456445",
     "exception": false,
     "start_time": "2024-08-11T18:58:27.210597",
     "status": "completed"
    },
    "tags": []
   },
   "outputs": [
    {
     "data": {
      "text/plain": [
       "<Axes: xlabel='Survived', ylabel='count'>"
      ]
     },
     "execution_count": 18,
     "metadata": {},
     "output_type": "execute_result"
    },
    {
     "data": {
      "image/png": "[encoded data removed]",
      "text/plain": [
       "<Figure size 640x480 with 1 Axes>"
      ]
     },
     "metadata": {},
     "output_type": "display_data"
    }
   ],
   "source": [
    "sns.countplot(x='Survived',data=df,hue='Sex')\n"
   ]
  },
  {
   "cell_type": "code",
   "execution_count": 19,
   "id": "466909c1",
   "metadata": {
    "execution": {
     "iopub.execute_input": "2024-08-11T18:58:27.490976Z",
     "iopub.status.busy": "2024-08-11T18:58:27.490595Z",
     "iopub.status.idle": "2024-08-11T18:58:27.503590Z",
     "shell.execute_reply": "2024-08-11T18:58:27.502400Z"
    },
    "papermill": {
     "duration": 0.033624,
     "end_time": "2024-08-11T18:58:27.506327",
     "exception": false,
     "start_time": "2024-08-11T18:58:27.472703",
     "status": "completed"
    },
    "tags": []
   },
   "outputs": [
    {
     "data": {
      "text/plain": [
       "Pclass  Survived\n",
       "1       1           136\n",
       "        0            80\n",
       "2       0            97\n",
       "        1            87\n",
       "3       0           372\n",
       "        1           119\n",
       "Name: count, dtype: int64"
      ]
     },
     "execution_count": 19,
     "metadata": {},
     "output_type": "execute_result"
    }
   ],
   "source": [
    "df.Survived.groupby(df.Pclass).value_counts()\n"
   ]
  },
  {
   "cell_type": "code",
   "execution_count": 20,
   "id": "f85028a0",
   "metadata": {
    "execution": {
     "iopub.execute_input": "2024-08-11T18:58:27.541042Z",
     "iopub.status.busy": "2024-08-11T18:58:27.540672Z",
     "iopub.status.idle": "2024-08-11T18:58:27.795989Z",
     "shell.execute_reply": "2024-08-11T18:58:27.794759Z"
    },
    "papermill": {
     "duration": 0.275007,
     "end_time": "2024-08-11T18:58:27.798364",
     "exception": false,
     "start_time": "2024-08-11T18:58:27.523357",
     "status": "completed"
    },
    "tags": []
   },
   "outputs": [
    {
     "data": {
      "text/plain": [
       "<Axes: xlabel='Pclass', ylabel='count'>"
      ]
     },
     "execution_count": 20,
     "metadata": {},
     "output_type": "execute_result"
    },
    {
     "data": {
      "image/png": "[encoded data removed]",
      "text/plain": [
       "<Figure size 640x480 with 1 Axes>"
      ]
     },
     "metadata": {},
     "output_type": "display_data"
    }
   ],
   "source": [
    "sns.countplot(x='Pclass',data=df,hue='Survived')\n"
   ]
  },
  {
   "cell_type": "code",
   "execution_count": 21,
   "id": "b6fd4854",
   "metadata": {
    "execution": {
     "iopub.execute_input": "2024-08-11T18:58:27.833500Z",
     "iopub.status.busy": "2024-08-11T18:58:27.833074Z",
     "iopub.status.idle": "2024-08-11T18:58:27.846141Z",
     "shell.execute_reply": "2024-08-11T18:58:27.845038Z"
    },
    "papermill": {
     "duration": 0.033442,
     "end_time": "2024-08-11T18:58:27.848487",
     "exception": false,
     "start_time": "2024-08-11T18:58:27.815045",
     "status": "completed"
    },
    "tags": []
   },
   "outputs": [
    {
     "data": {
      "text/plain": [
       "Survived  Age      \n",
       "0         29.699118    125\n",
       "          21.000000     19\n",
       "          28.000000     18\n",
       "          18.000000     17\n",
       "          25.000000     17\n",
       "                      ... \n",
       "1         43.000000      1\n",
       "          47.000000      1\n",
       "          53.000000      1\n",
       "          55.000000      1\n",
       "          80.000000      1\n",
       "Name: count, Length: 144, dtype: int64"
      ]
     },
     "execution_count": 21,
     "metadata": {},
     "output_type": "execute_result"
    }
   ],
   "source": [
    "age=df.Age.groupby(df.Survived).value_counts()\n",
    "age"
   ]
  },
  {
   "cell_type": "code",
   "execution_count": 22,
   "id": "3ee30e6d",
   "metadata": {
    "execution": {
     "iopub.execute_input": "2024-08-11T18:58:27.884122Z",
     "iopub.status.busy": "2024-08-11T18:58:27.883150Z",
     "iopub.status.idle": "2024-08-11T18:58:27.896850Z",
     "shell.execute_reply": "2024-08-11T18:58:27.895489Z"
    },
    "papermill": {
     "duration": 0.034335,
     "end_time": "2024-08-11T18:58:27.899551",
     "exception": false,
     "start_time": "2024-08-11T18:58:27.865216",
     "status": "completed"
    },
    "tags": []
   },
   "outputs": [
    {
     "data": {
      "text/plain": [
       "Survived  Age      \n",
       "0         29.699118    125\n",
       "          21.000000     19\n",
       "          28.000000     18\n",
       "          18.000000     17\n",
       "          25.000000     17\n",
       "                      ... \n",
       "1         43.000000      1\n",
       "          47.000000      1\n",
       "          53.000000      1\n",
       "          55.000000      1\n",
       "          80.000000      1\n",
       "Name: count, Length: 144, dtype: int64"
      ]
     },
     "execution_count": 22,
     "metadata": {},
     "output_type": "execute_result"
    }
   ],
   "source": [
    "age=df.Age.groupby(df.Survived).value_counts()\n",
    "age"
   ]
  },
  {
   "cell_type": "code",
   "execution_count": 23,
   "id": "38b97a29",
   "metadata": {
    "execution": {
     "iopub.execute_input": "2024-08-11T18:58:27.936472Z",
     "iopub.status.busy": "2024-08-11T18:58:27.936060Z",
     "iopub.status.idle": "2024-08-11T18:58:27.944670Z",
     "shell.execute_reply": "2024-08-11T18:58:27.943611Z"
    },
    "papermill": {
     "duration": 0.029507,
     "end_time": "2024-08-11T18:58:27.946827",
     "exception": false,
     "start_time": "2024-08-11T18:58:27.917320",
     "status": "completed"
    },
    "tags": []
   },
   "outputs": [
    {
     "data": {
      "text/plain": [
       "80.0"
      ]
     },
     "execution_count": 23,
     "metadata": {},
     "output_type": "execute_result"
    }
   ],
   "source": [
    "df[df['Survived']==1 ] ['Age'].max()"
   ]
  },
  {
   "cell_type": "code",
   "execution_count": 24,
   "id": "98a13c58",
   "metadata": {
    "execution": {
     "iopub.execute_input": "2024-08-11T18:58:27.982662Z",
     "iopub.status.busy": "2024-08-11T18:58:27.982267Z",
     "iopub.status.idle": "2024-08-11T18:58:27.990676Z",
     "shell.execute_reply": "2024-08-11T18:58:27.989580Z"
    },
    "papermill": {
     "duration": 0.029015,
     "end_time": "2024-08-11T18:58:27.992967",
     "exception": false,
     "start_time": "2024-08-11T18:58:27.963952",
     "status": "completed"
    },
    "tags": []
   },
   "outputs": [
    {
     "data": {
      "text/plain": [
       "74.0"
      ]
     },
     "execution_count": 24,
     "metadata": {},
     "output_type": "execute_result"
    }
   ],
   "source": [
    "df[df['Survived']==0 ] ['Age'].max()"
   ]
  },
  {
   "cell_type": "code",
   "execution_count": 25,
   "id": "5968641d",
   "metadata": {
    "execution": {
     "iopub.execute_input": "2024-08-11T18:58:28.029369Z",
     "iopub.status.busy": "2024-08-11T18:58:28.028991Z",
     "iopub.status.idle": "2024-08-11T18:58:28.039502Z",
     "shell.execute_reply": "2024-08-11T18:58:28.038392Z"
    },
    "papermill": {
     "duration": 0.031071,
     "end_time": "2024-08-11T18:58:28.041610",
     "exception": false,
     "start_time": "2024-08-11T18:58:28.010539",
     "status": "completed"
    },
    "tags": []
   },
   "outputs": [
    {
     "data": {
      "text/plain": [
       "0    29.699118\n",
       "Name: Age, dtype: float64"
      ]
     },
     "execution_count": 25,
     "metadata": {},
     "output_type": "execute_result"
    }
   ],
   "source": [
    "df[df['Survived']==0 ] ['Age'].mode()"
   ]
  },
  {
   "cell_type": "code",
   "execution_count": 26,
   "id": "a40f7a16",
   "metadata": {
    "execution": {
     "iopub.execute_input": "2024-08-11T18:58:28.077413Z",
     "iopub.status.busy": "2024-08-11T18:58:28.076981Z",
     "iopub.status.idle": "2024-08-11T18:58:28.086268Z",
     "shell.execute_reply": "2024-08-11T18:58:28.085229Z"
    },
    "papermill": {
     "duration": 0.029725,
     "end_time": "2024-08-11T18:58:28.088476",
     "exception": false,
     "start_time": "2024-08-11T18:58:28.058751",
     "status": "completed"
    },
    "tags": []
   },
   "outputs": [
    {
     "data": {
      "text/plain": [
       "0    29.699118\n",
       "Name: Age, dtype: float64"
      ]
     },
     "execution_count": 26,
     "metadata": {},
     "output_type": "execute_result"
    }
   ],
   "source": [
    "df[df['Survived']==1 ] ['Age'].mode()"
   ]
  },
  {
   "cell_type": "code",
   "execution_count": 27,
   "id": "4ee1719f",
   "metadata": {
    "execution": {
     "iopub.execute_input": "2024-08-11T18:58:28.124943Z",
     "iopub.status.busy": "2024-08-11T18:58:28.124548Z",
     "iopub.status.idle": "2024-08-11T18:58:28.399302Z",
     "shell.execute_reply": "2024-08-11T18:58:28.398254Z"
    },
    "papermill": {
     "duration": 0.295863,
     "end_time": "2024-08-11T18:58:28.401629",
     "exception": false,
     "start_time": "2024-08-11T18:58:28.105766",
     "status": "completed"
    },
    "tags": []
   },
   "outputs": [
    {
     "data": {
      "text/plain": [
       "<Axes: xlabel='Age', ylabel='Count'>"
      ]
     },
     "execution_count": 27,
     "metadata": {},
     "output_type": "execute_result"
    },
    {
     "data": {
      "image/png": "[encoded data removed]",
      "text/plain": [
       "<Figure size 640x480 with 1 Axes>"
      ]
     },
     "metadata": {},
     "output_type": "display_data"
    }
   ],
   "source": [
    "sns.histplot(x='Age',data=df)"
   ]
  },
  {
   "cell_type": "code",
   "execution_count": 28,
   "id": "8083d3cf",
   "metadata": {
    "execution": {
     "iopub.execute_input": "2024-08-11T18:58:28.439244Z",
     "iopub.status.busy": "2024-08-11T18:58:28.438519Z",
     "iopub.status.idle": "2024-08-11T18:58:28.556628Z",
     "shell.execute_reply": "2024-08-11T18:58:28.555482Z"
    },
    "papermill": {
     "duration": 0.142439,
     "end_time": "2024-08-11T18:58:28.561664",
     "exception": false,
     "start_time": "2024-08-11T18:58:28.419225",
     "status": "completed"
    },
    "tags": []
   },
   "outputs": [
    {
     "data": {
      "text/plain": [
       "<Axes: ylabel='count'>"
      ]
     },
     "execution_count": 28,
     "metadata": {},
     "output_type": "execute_result"
    },
    {
     "data": {
      "image/png": "[encoded data removed]",
      "text/plain": [
       "<Figure size 640x480 with 1 Axes>"
      ]
     },
     "metadata": {},
     "output_type": "display_data"
    }
   ],
   "source": [
    "df.Sex.value_counts().plot.pie(autopct='%.2f%%')\n"
   ]
  },
  {
   "cell_type": "code",
   "execution_count": 29,
   "id": "a6dc385e",
   "metadata": {
    "execution": {
     "iopub.execute_input": "2024-08-11T18:58:28.628555Z",
     "iopub.status.busy": "2024-08-11T18:58:28.627859Z",
     "iopub.status.idle": "2024-08-11T18:58:28.792522Z",
     "shell.execute_reply": "2024-08-11T18:58:28.791158Z"
    },
    "papermill": {
     "duration": 0.201698,
     "end_time": "2024-08-11T18:58:28.795434",
     "exception": false,
     "start_time": "2024-08-11T18:58:28.593736",
     "status": "completed"
    },
    "tags": []
   },
   "outputs": [
    {
     "data": {
      "text/plain": [
       "<Axes: ylabel='count'>"
      ]
     },
     "execution_count": 29,
     "metadata": {},
     "output_type": "execute_result"
    },
    {
     "data": {
      "image/png": "[encoded data removed]",
      "text/plain": [
       "<Figure size 640x480 with 1 Axes>"
      ]
     },
     "metadata": {},
     "output_type": "display_data"
    }
   ],
   "source": [
    "gpsex=df.Survived.groupby(df.Sex).value_counts()\n",
    "gpsex.plot.pie(autopct='%.2f%%')"
   ]
  },
  {
   "cell_type": "markdown",
   "id": "6dd19756",
   "metadata": {
    "papermill": {
     "duration": 0.01872,
     "end_time": "2024-08-11T18:58:28.833067",
     "exception": false,
     "start_time": "2024-08-11T18:58:28.814347",
     "status": "completed"
    },
    "tags": []
   },
   "source": [
    "# Data Transformation\n"
   ]
  },
  {
   "cell_type": "code",
   "execution_count": 30,
   "id": "3349dc9f",
   "metadata": {
    "execution": {
     "iopub.execute_input": "2024-08-11T18:58:28.873329Z",
     "iopub.status.busy": "2024-08-11T18:58:28.872362Z",
     "iopub.status.idle": "2024-08-11T18:58:28.885086Z",
     "shell.execute_reply": "2024-08-11T18:58:28.884084Z"
    },
    "papermill": {
     "duration": 0.035207,
     "end_time": "2024-08-11T18:58:28.887429",
     "exception": false,
     "start_time": "2024-08-11T18:58:28.852222",
     "status": "completed"
    },
    "tags": []
   },
   "outputs": [
    {
     "data": {
      "text/html": [
       "<div>\n",
       "<style scoped>\n",
       "    .dataframe tbody tr th:only-of-type {\n",
       "        vertical-align: middle;\n",
       "    }\n",
       "\n",
       "    .dataframe tbody tr th {\n",
       "        vertical-align: top;\n",
       "    }\n",
       "\n",
       "    .dataframe thead th {\n",
       "        text-align: right;\n",
       "    }\n",
       "</style>\n",
       "<table border=\"1\" class=\"dataframe\">\n",
       "  <thead>\n",
       "    <tr style=\"text-align: right;\">\n",
       "      <th></th>\n",
       "      <th>male</th>\n",
       "    </tr>\n",
       "  </thead>\n",
       "  <tbody>\n",
       "    <tr>\n",
       "      <th>0</th>\n",
       "      <td>1</td>\n",
       "    </tr>\n",
       "    <tr>\n",
       "      <th>1</th>\n",
       "      <td>0</td>\n",
       "    </tr>\n",
       "    <tr>\n",
       "      <th>2</th>\n",
       "      <td>0</td>\n",
       "    </tr>\n",
       "    <tr>\n",
       "      <th>3</th>\n",
       "      <td>0</td>\n",
       "    </tr>\n",
       "    <tr>\n",
       "      <th>4</th>\n",
       "      <td>1</td>\n",
       "    </tr>\n",
       "    <tr>\n",
       "      <th>...</th>\n",
       "      <td>...</td>\n",
       "    </tr>\n",
       "    <tr>\n",
       "      <th>886</th>\n",
       "      <td>1</td>\n",
       "    </tr>\n",
       "    <tr>\n",
       "      <th>887</th>\n",
       "      <td>0</td>\n",
       "    </tr>\n",
       "    <tr>\n",
       "      <th>888</th>\n",
       "      <td>0</td>\n",
       "    </tr>\n",
       "    <tr>\n",
       "      <th>889</th>\n",
       "      <td>1</td>\n",
       "    </tr>\n",
       "    <tr>\n",
       "      <th>890</th>\n",
       "      <td>1</td>\n",
       "    </tr>\n",
       "  </tbody>\n",
       "</table>\n",
       "<p>891 rows × 1 columns</p>\n",
       "</div>"
      ],
      "text/plain": [
       "     male\n",
       "0       1\n",
       "1       0\n",
       "2       0\n",
       "3       0\n",
       "4       1\n",
       "..    ...\n",
       "886     1\n",
       "887     0\n",
       "888     0\n",
       "889     1\n",
       "890     1\n",
       "\n",
       "[891 rows x 1 columns]"
      ]
     },
     "execution_count": 30,
     "metadata": {},
     "output_type": "execute_result"
    }
   ],
   "source": [
    "data=pd.get_dummies(df['Sex'],drop_first=True)\n",
    "data=data.astype('int64')\n",
    "data"
   ]
  },
  {
   "cell_type": "code",
   "execution_count": 31,
   "id": "0f89b058",
   "metadata": {
    "execution": {
     "iopub.execute_input": "2024-08-11T18:58:28.931637Z",
     "iopub.status.busy": "2024-08-11T18:58:28.930900Z",
     "iopub.status.idle": "2024-08-11T18:58:28.951517Z",
     "shell.execute_reply": "2024-08-11T18:58:28.950279Z"
    },
    "papermill": {
     "duration": 0.047469,
     "end_time": "2024-08-11T18:58:28.953808",
     "exception": false,
     "start_time": "2024-08-11T18:58:28.906339",
     "status": "completed"
    },
    "tags": []
   },
   "outputs": [
    {
     "data": {
      "text/html": [
       "<div>\n",
       "<style scoped>\n",
       "    .dataframe tbody tr th:only-of-type {\n",
       "        vertical-align: middle;\n",
       "    }\n",
       "\n",
       "    .dataframe tbody tr th {\n",
       "        vertical-align: top;\n",
       "    }\n",
       "\n",
       "    .dataframe thead th {\n",
       "        text-align: right;\n",
       "    }\n",
       "</style>\n",
       "<table border=\"1\" class=\"dataframe\">\n",
       "  <thead>\n",
       "    <tr style=\"text-align: right;\">\n",
       "      <th></th>\n",
       "      <th>Survived</th>\n",
       "      <th>Pclass</th>\n",
       "      <th>Sex</th>\n",
       "      <th>Age</th>\n",
       "      <th>SibSp</th>\n",
       "      <th>Parch</th>\n",
       "      <th>male</th>\n",
       "    </tr>\n",
       "  </thead>\n",
       "  <tbody>\n",
       "    <tr>\n",
       "      <th>0</th>\n",
       "      <td>0</td>\n",
       "      <td>3</td>\n",
       "      <td>male</td>\n",
       "      <td>22.000000</td>\n",
       "      <td>1</td>\n",
       "      <td>0</td>\n",
       "      <td>1</td>\n",
       "    </tr>\n",
       "    <tr>\n",
       "      <th>1</th>\n",
       "      <td>1</td>\n",
       "      <td>1</td>\n",
       "      <td>female</td>\n",
       "      <td>38.000000</td>\n",
       "      <td>1</td>\n",
       "      <td>0</td>\n",
       "      <td>0</td>\n",
       "    </tr>\n",
       "    <tr>\n",
       "      <th>2</th>\n",
       "      <td>1</td>\n",
       "      <td>3</td>\n",
       "      <td>female</td>\n",
       "      <td>26.000000</td>\n",
       "      <td>0</td>\n",
       "      <td>0</td>\n",
       "      <td>0</td>\n",
       "    </tr>\n",
       "    <tr>\n",
       "      <th>3</th>\n",
       "      <td>1</td>\n",
       "      <td>1</td>\n",
       "      <td>female</td>\n",
       "      <td>35.000000</td>\n",
       "      <td>1</td>\n",
       "      <td>0</td>\n",
       "      <td>0</td>\n",
       "    </tr>\n",
       "    <tr>\n",
       "      <th>4</th>\n",
       "      <td>0</td>\n",
       "      <td>3</td>\n",
       "      <td>male</td>\n",
       "      <td>35.000000</td>\n",
       "      <td>0</td>\n",
       "      <td>0</td>\n",
       "      <td>1</td>\n",
       "    </tr>\n",
       "    <tr>\n",
       "      <th>...</th>\n",
       "      <td>...</td>\n",
       "      <td>...</td>\n",
       "      <td>...</td>\n",
       "      <td>...</td>\n",
       "      <td>...</td>\n",
       "      <td>...</td>\n",
       "      <td>...</td>\n",
       "    </tr>\n",
       "    <tr>\n",
       "      <th>886</th>\n",
       "      <td>0</td>\n",
       "      <td>2</td>\n",
       "      <td>male</td>\n",
       "      <td>27.000000</td>\n",
       "      <td>0</td>\n",
       "      <td>0</td>\n",
       "      <td>1</td>\n",
       "    </tr>\n",
       "    <tr>\n",
       "      <th>887</th>\n",
       "      <td>1</td>\n",
       "      <td>1</td>\n",
       "      <td>female</td>\n",
       "      <td>19.000000</td>\n",
       "      <td>0</td>\n",
       "      <td>0</td>\n",
       "      <td>0</td>\n",
       "    </tr>\n",
       "    <tr>\n",
       "      <th>888</th>\n",
       "      <td>0</td>\n",
       "      <td>3</td>\n",
       "      <td>female</td>\n",
       "      <td>29.699118</td>\n",
       "      <td>1</td>\n",
       "      <td>2</td>\n",
       "      <td>0</td>\n",
       "    </tr>\n",
       "    <tr>\n",
       "      <th>889</th>\n",
       "      <td>1</td>\n",
       "      <td>1</td>\n",
       "      <td>male</td>\n",
       "      <td>26.000000</td>\n",
       "      <td>0</td>\n",
       "      <td>0</td>\n",
       "      <td>1</td>\n",
       "    </tr>\n",
       "    <tr>\n",
       "      <th>890</th>\n",
       "      <td>0</td>\n",
       "      <td>3</td>\n",
       "      <td>male</td>\n",
       "      <td>32.000000</td>\n",
       "      <td>0</td>\n",
       "      <td>0</td>\n",
       "      <td>1</td>\n",
       "    </tr>\n",
       "  </tbody>\n",
       "</table>\n",
       "<p>891 rows × 7 columns</p>\n",
       "</div>"
      ],
      "text/plain": [
       "     Survived  Pclass     Sex        Age  SibSp  Parch  male\n",
       "0           0       3    male  22.000000      1      0     1\n",
       "1           1       1  female  38.000000      1      0     0\n",
       "2           1       3  female  26.000000      0      0     0\n",
       "3           1       1  female  35.000000      1      0     0\n",
       "4           0       3    male  35.000000      0      0     1\n",
       "..        ...     ...     ...        ...    ...    ...   ...\n",
       "886         0       2    male  27.000000      0      0     1\n",
       "887         1       1  female  19.000000      0      0     0\n",
       "888         0       3  female  29.699118      1      2     0\n",
       "889         1       1    male  26.000000      0      0     1\n",
       "890         0       3    male  32.000000      0      0     1\n",
       "\n",
       "[891 rows x 7 columns]"
      ]
     },
     "execution_count": 31,
     "metadata": {},
     "output_type": "execute_result"
    }
   ],
   "source": [
    "df=pd.concat([df,data],axis=1)\n",
    "df"
   ]
  },
  {
   "cell_type": "code",
   "execution_count": 32,
   "id": "a4959f8a",
   "metadata": {
    "execution": {
     "iopub.execute_input": "2024-08-11T18:58:28.994810Z",
     "iopub.status.busy": "2024-08-11T18:58:28.994415Z",
     "iopub.status.idle": "2024-08-11T18:58:29.000602Z",
     "shell.execute_reply": "2024-08-11T18:58:28.999465Z"
    },
    "papermill": {
     "duration": 0.029039,
     "end_time": "2024-08-11T18:58:29.002916",
     "exception": false,
     "start_time": "2024-08-11T18:58:28.973877",
     "status": "completed"
    },
    "tags": []
   },
   "outputs": [],
   "source": [
    "df.drop('Sex',axis=1,inplace = True )"
   ]
  },
  {
   "cell_type": "code",
   "execution_count": 33,
   "id": "542e0e5c",
   "metadata": {
    "execution": {
     "iopub.execute_input": "2024-08-11T18:58:29.045712Z",
     "iopub.status.busy": "2024-08-11T18:58:29.045013Z",
     "iopub.status.idle": "2024-08-11T18:58:29.059185Z",
     "shell.execute_reply": "2024-08-11T18:58:29.058179Z"
    },
    "papermill": {
     "duration": 0.037164,
     "end_time": "2024-08-11T18:58:29.061749",
     "exception": false,
     "start_time": "2024-08-11T18:58:29.024585",
     "status": "completed"
    },
    "tags": []
   },
   "outputs": [
    {
     "data": {
      "text/html": [
       "<div>\n",
       "<style scoped>\n",
       "    .dataframe tbody tr th:only-of-type {\n",
       "        vertical-align: middle;\n",
       "    }\n",
       "\n",
       "    .dataframe tbody tr th {\n",
       "        vertical-align: top;\n",
       "    }\n",
       "\n",
       "    .dataframe thead th {\n",
       "        text-align: right;\n",
       "    }\n",
       "</style>\n",
       "<table border=\"1\" class=\"dataframe\">\n",
       "  <thead>\n",
       "    <tr style=\"text-align: right;\">\n",
       "      <th></th>\n",
       "      <th>Survived</th>\n",
       "      <th>Pclass</th>\n",
       "      <th>Age</th>\n",
       "      <th>SibSp</th>\n",
       "      <th>Parch</th>\n",
       "      <th>gender</th>\n",
       "    </tr>\n",
       "  </thead>\n",
       "  <tbody>\n",
       "    <tr>\n",
       "      <th>0</th>\n",
       "      <td>0</td>\n",
       "      <td>3</td>\n",
       "      <td>22.000000</td>\n",
       "      <td>1</td>\n",
       "      <td>0</td>\n",
       "      <td>1</td>\n",
       "    </tr>\n",
       "    <tr>\n",
       "      <th>1</th>\n",
       "      <td>1</td>\n",
       "      <td>1</td>\n",
       "      <td>38.000000</td>\n",
       "      <td>1</td>\n",
       "      <td>0</td>\n",
       "      <td>0</td>\n",
       "    </tr>\n",
       "    <tr>\n",
       "      <th>2</th>\n",
       "      <td>1</td>\n",
       "      <td>3</td>\n",
       "      <td>26.000000</td>\n",
       "      <td>0</td>\n",
       "      <td>0</td>\n",
       "      <td>0</td>\n",
       "    </tr>\n",
       "    <tr>\n",
       "      <th>3</th>\n",
       "      <td>1</td>\n",
       "      <td>1</td>\n",
       "      <td>35.000000</td>\n",
       "      <td>1</td>\n",
       "      <td>0</td>\n",
       "      <td>0</td>\n",
       "    </tr>\n",
       "    <tr>\n",
       "      <th>4</th>\n",
       "      <td>0</td>\n",
       "      <td>3</td>\n",
       "      <td>35.000000</td>\n",
       "      <td>0</td>\n",
       "      <td>0</td>\n",
       "      <td>1</td>\n",
       "    </tr>\n",
       "    <tr>\n",
       "      <th>...</th>\n",
       "      <td>...</td>\n",
       "      <td>...</td>\n",
       "      <td>...</td>\n",
       "      <td>...</td>\n",
       "      <td>...</td>\n",
       "      <td>...</td>\n",
       "    </tr>\n",
       "    <tr>\n",
       "      <th>886</th>\n",
       "      <td>0</td>\n",
       "      <td>2</td>\n",
       "      <td>27.000000</td>\n",
       "      <td>0</td>\n",
       "      <td>0</td>\n",
       "      <td>1</td>\n",
       "    </tr>\n",
       "    <tr>\n",
       "      <th>887</th>\n",
       "      <td>1</td>\n",
       "      <td>1</td>\n",
       "      <td>19.000000</td>\n",
       "      <td>0</td>\n",
       "      <td>0</td>\n",
       "      <td>0</td>\n",
       "    </tr>\n",
       "    <tr>\n",
       "      <th>888</th>\n",
       "      <td>0</td>\n",
       "      <td>3</td>\n",
       "      <td>29.699118</td>\n",
       "      <td>1</td>\n",
       "      <td>2</td>\n",
       "      <td>0</td>\n",
       "    </tr>\n",
       "    <tr>\n",
       "      <th>889</th>\n",
       "      <td>1</td>\n",
       "      <td>1</td>\n",
       "      <td>26.000000</td>\n",
       "      <td>0</td>\n",
       "      <td>0</td>\n",
       "      <td>1</td>\n",
       "    </tr>\n",
       "    <tr>\n",
       "      <th>890</th>\n",
       "      <td>0</td>\n",
       "      <td>3</td>\n",
       "      <td>32.000000</td>\n",
       "      <td>0</td>\n",
       "      <td>0</td>\n",
       "      <td>1</td>\n",
       "    </tr>\n",
       "  </tbody>\n",
       "</table>\n",
       "<p>891 rows × 6 columns</p>\n",
       "</div>"
      ],
      "text/plain": [
       "     Survived  Pclass        Age  SibSp  Parch  gender\n",
       "0           0       3  22.000000      1      0       1\n",
       "1           1       1  38.000000      1      0       0\n",
       "2           1       3  26.000000      0      0       0\n",
       "3           1       1  35.000000      1      0       0\n",
       "4           0       3  35.000000      0      0       1\n",
       "..        ...     ...        ...    ...    ...     ...\n",
       "886         0       2  27.000000      0      0       1\n",
       "887         1       1  19.000000      0      0       0\n",
       "888         0       3  29.699118      1      2       0\n",
       "889         1       1  26.000000      0      0       1\n",
       "890         0       3  32.000000      0      0       1\n",
       "\n",
       "[891 rows x 6 columns]"
      ]
     },
     "execution_count": 33,
     "metadata": {},
     "output_type": "execute_result"
    }
   ],
   "source": [
    "df.rename(columns={'male':'gender'})\n"
   ]
  },
  {
   "cell_type": "markdown",
   "id": "09aabae7",
   "metadata": {},
   "source": [
    "# Box Plot"
   ]
  },
  {
   "cell_type": "code",
   "execution_count": null,
   "id": "8ae4acbe",
   "metadata": {},
   "outputs": [
    {
     "data": {
      "image/png": "[encoded data removed]",
      "text/plain": [
       "<Figure size 1200x600 with 1 Axes>"
      ]
     },
     "metadata": {},
     "output_type": "display_data"
    }
   ],
   "source": [
    "numerical_cols = df.select_dtypes(include='number').columns\n",
    "plt.figure(figsize=(12, 6))\n",
    "sns.boxplot(data=df[numerical_cols])\n",
    "plt.title(\"Boxplot\")\n",
    "plt.xticks(rotation=45)  # Rotate x labels if needed\n",
    "plt.tight_layout()\n",
    "plt.show()\n"
   ]
  },
  {
   "cell_type": "code",
   "execution_count": null,
   "id": "b9749174",
   "metadata": {},
   "outputs": [],
   "source": []
  }
 ],
 "metadata": {
  "kaggle": {
   "accelerator": "none",
   "dataSources": [
    {
     "datasetId": 1818188,
     "sourceId": 2965537,
     "sourceType": "datasetVersion"
    }
   ],
   "dockerImageVersionId": 30746,
   "isGpuEnabled": false,
   "isInternetEnabled": true,
   "language": "python",
   "sourceType": "notebook"
  },
  "kernelspec": {
   "display_name": "base",
   "language": "python",
   "name": "python3"
  },
  "language_info": {
   "codemirror_mode": {
    "name": "ipython",
    "version": 3
   },
   "file_extension": ".py",
   "mimetype": "text/x-python",
   "name": "python",
   "nbconvert_exporter": "python",
   "pygments_lexer": "ipython3",
   "version": "3.12.4"
  },
  "papermill": {
   "default_parameters": {},
   "duration": 12.06613,
   "end_time": "2024-08-11T18:58:31.312673",
   "environment_variables": {},
   "exception": null,
   "input_path": "__notebook__.ipynb",
   "output_path": "__notebook__.ipynb",
   "parameters": {},
   "start_time": "2024-08-11T18:58:19.246543",
   "version": "2.5.0"
  }
 },
 "nbformat": 4,
 "nbformat_minor": 5
}
